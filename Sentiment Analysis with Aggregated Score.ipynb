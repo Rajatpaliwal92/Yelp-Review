{
 "cells": [
  {
   "cell_type": "code",
   "execution_count": 1,
   "metadata": {},
   "outputs": [],
   "source": [
    "from pyspark import SparkContext\n",
    "from pyspark.sql.types import *\n",
    "from pyspark.sql import Row\n",
    "from pyspark.sql.functions import *\n",
    "import math\n",
    "sc = SparkContext.getOrCreate()\n",
    "sqlContext = SQLContext(sc)\n",
    "import matplotlib.pyplot as plt"
   ]
  },
  {
   "cell_type": "code",
   "execution_count": null,
   "metadata": {
    "collapsed": true
   },
   "outputs": [],
   "source": []
  },
  {
   "cell_type": "code",
   "execution_count": 2,
   "metadata": {
    "collapsed": true
   },
   "outputs": [],
   "source": [
    "import numpy as np\n",
    "import pandas as pd"
   ]
  },
  {
   "cell_type": "code",
   "execution_count": 3,
   "metadata": {
    "collapsed": true
   },
   "outputs": [],
   "source": [
    "import tweepy\n",
    "from vaderSentiment.vaderSentiment import SentimentIntensityAnalyzer"
   ]
  },
  {
   "cell_type": "markdown",
   "metadata": {},
   "source": [
    "### Vader sentiment analysis"
   ]
  },
  {
   "cell_type": "markdown",
   "metadata": {},
   "source": [
    "#### Dictionary of scores and reviews"
   ]
  },
  {
   "cell_type": "code",
   "execution_count": 4,
   "metadata": {
    "collapsed": true
   },
   "outputs": [],
   "source": [
    "dbname = 'test'\n",
    "collection_name1 = 'reviews'\n",
    "\n",
    "path = \"/Users/neerjadoshi/Downloads/\"\n",
    "\n",
    "input_file_name1 = path+\"review_u200.json\""
   ]
  },
  {
   "cell_type": "code",
   "execution_count": 5,
   "metadata": {
    "collapsed": true
   },
   "outputs": [],
   "source": [
    "reviews200_df = sqlContext.read.json(input_file_name1)"
   ]
  },
  {
   "cell_type": "code",
   "execution_count": 6,
   "metadata": {},
   "outputs": [
    {
     "name": "stdout",
     "output_type": "stream",
     "text": [
      "+--------------------+--------------------+-----+--------------------+--------------------+\n",
      "|         business_id|           review_id|stars|                text|             user_id|\n",
      "+--------------------+--------------------+-----+--------------------+--------------------+\n",
      "|5GcHJvxiTrIt23gB0...|zczyue447yED7newK...|    2|You certainly get...|P2E31XC7SP4v_3hXC...|\n",
      "|5GcHJvxiTrIt23gB0...|9vGcS9Vze0XjYQgCi...|    2|The Chinese name ...|Wu0yySWcHQ5tZ_59H...|\n",
      "+--------------------+--------------------+-----+--------------------+--------------------+\n",
      "only showing top 2 rows\n",
      "\n"
     ]
    }
   ],
   "source": [
    "reviews200_df.show(2)"
   ]
  },
  {
   "cell_type": "code",
   "execution_count": 7,
   "metadata": {
    "collapsed": true
   },
   "outputs": [],
   "source": [
    "reviews = list(reviews200_df.select('text').rdd.map(lambda x: x[0]).collect())"
   ]
  },
  {
   "cell_type": "code",
   "execution_count": 8,
   "metadata": {
    "collapsed": true
   },
   "outputs": [],
   "source": [
    "stars = list(reviews200_df.select('stars').rdd.map(lambda x: x[0]).collect())"
   ]
  },
  {
   "cell_type": "code",
   "execution_count": 9,
   "metadata": {
    "collapsed": true
   },
   "outputs": [],
   "source": [
    "business = list(reviews200_df.select('business_id').rdd.map(lambda x: x[0]).collect())"
   ]
  },
  {
   "cell_type": "code",
   "execution_count": 124,
   "metadata": {
    "collapsed": true
   },
   "outputs": [],
   "source": [
    "review_star_dict_raw = dict(zip(reviews, stars))\n",
    "# review_star_dict_raw"
   ]
  },
  {
   "cell_type": "code",
   "execution_count": 125,
   "metadata": {
    "collapsed": true
   },
   "outputs": [],
   "source": [
    "analyse = SentimentIntensityAnalyzer()\n",
    "\n",
    "review_star_dict_pred = review_star_dict_raw.copy()\n",
    "\n",
    "for i in reviews:\n",
    "    review_star_dict_pred[i] = analyse.polarity_scores(i)['compound']"
   ]
  },
  {
   "cell_type": "code",
   "execution_count": 126,
   "metadata": {
    "collapsed": true
   },
   "outputs": [],
   "source": [
    "def derive_rating(reviews_dict):\n",
    "    \"\"\"\n",
    "    take review_dict with scores in values in comment in key. \n",
    "    convert the score range of -1 to 1 to range of 1 to 5\n",
    "    \"\"\"   \n",
    "    NewMax = 5\n",
    "    NewMin = 1\n",
    "    OldMax = 1\n",
    "    OldMin = -1\n",
    "    \n",
    "    reviews_dict_updated = reviews_dict.copy()\n",
    "    \n",
    "    for t in reviews_dict.keys():\n",
    "        score = reviews_dict_updated[t]\n",
    "        OldValue = score\n",
    "        NewValue = (((OldValue - OldMin) * (NewMax - NewMin)) / (OldMax - OldMin)) + NewMin\n",
    "        NewValue_round = np.round(NewValue)\n",
    "        reviews_dict_updated[t] = NewValue_round\n",
    "    \n",
    "    return reviews_dict_updated"
   ]
  },
  {
   "cell_type": "code",
   "execution_count": 127,
   "metadata": {
    "collapsed": true
   },
   "outputs": [],
   "source": [
    "review_star_dict_pred_updated = derive_rating(review_star_dict_pred)"
   ]
  },
  {
   "cell_type": "code",
   "execution_count": 128,
   "metadata": {
    "collapsed": true
   },
   "outputs": [],
   "source": [
    "# review_star_dict_pred_updated"
   ]
  },
  {
   "cell_type": "markdown",
   "metadata": {},
   "source": [
    "Adding colors to sentiment for visualization purposes"
   ]
  },
  {
   "cell_type": "code",
   "execution_count": null,
   "metadata": {
    "collapsed": true
   },
   "outputs": [],
   "source": [
    "from colour import Color\n",
    "\n",
    "def add_color(reviews_dict):\n",
    "    \"\"\"\n",
    "    Given a list of tweets, one dictionary per tweet, add\n",
    "    a \"color\" key to each tweets dictionary with a value\n",
    "    containing a color graded from red to green. Pure red\n",
    "    would be for -1.0 sentiment score and pure green would be for\n",
    "    sentiment score 1.0.\n",
    "\n",
    "    Use colour.Color to get 5 color values in the range\n",
    "    from red to green. The index gives you the color increment\n",
    "    from the 5 gradients.\n",
    "\n",
    "    \"\"\"\n",
    "    color_dict = reviews_dict.copy()\n",
    "    keys = reviews_dict.keys()\n",
    "\n",
    "    colors = list(Color(\"red\").range_to(Color(\"green\"), 5))\n",
    "    #colors2 = [colors.split() for c in colors]\n",
    "    for t in keys:\n",
    "        score = color_dict[t]\n",
    "        color_dict[t] = str(colors[int(score-1)])\n",
    "\n",
    "    return color_dict"
   ]
  },
  {
   "cell_type": "code",
   "execution_count": null,
   "metadata": {
    "collapsed": true
   },
   "outputs": [],
   "source": [
    "colored_pred_rating = add_color(review_star_dict_pred_updated)"
   ]
  },
  {
   "cell_type": "code",
   "execution_count": null,
   "metadata": {
    "collapsed": true
   },
   "outputs": [],
   "source": [
    "len(reviews)"
   ]
  },
  {
   "cell_type": "code",
   "execution_count": null,
   "metadata": {
    "collapsed": true
   },
   "outputs": [],
   "source": [
    "len(review_star_dict_pred_updated)"
   ]
  },
  {
   "cell_type": "code",
   "execution_count": null,
   "metadata": {
    "collapsed": true
   },
   "outputs": [],
   "source": [
    "len(review_star_dict_pred)"
   ]
  },
  {
   "cell_type": "code",
   "execution_count": null,
   "metadata": {
    "collapsed": true
   },
   "outputs": [],
   "source": [
    "list(Color(\"red\").range_to(Color(\"green\"), 5))"
   ]
  },
  {
   "cell_type": "code",
   "execution_count": null,
   "metadata": {
    "collapsed": true
   },
   "outputs": [],
   "source": [
    "key1 = colored_pred_rating.keys()[np.random.randint(1000)]\n",
    "color1 = colored_pred_rating[key1]"
   ]
  },
  {
   "cell_type": "code",
   "execution_count": null,
   "metadata": {
    "collapsed": true
   },
   "outputs": [],
   "source": [
    "key1"
   ]
  },
  {
   "cell_type": "code",
   "execution_count": null,
   "metadata": {
    "collapsed": true
   },
   "outputs": [],
   "source": [
    "color1"
   ]
  },
  {
   "cell_type": "code",
   "execution_count": null,
   "metadata": {
    "collapsed": true
   },
   "outputs": [],
   "source": [
    "analyse.polarity_scores(\"My actual rating for the restaurant is 3.5 stars. The ambiance here is a step above other Chinese restaurants and the service is decently quick. The food was a mixed bag. The beef pancake roll was great and so was the beef noodle soup but make sure that you ask them to make it spicy because they don't do it by default. The mooshu pork was decent, nothing outstanding though. The same could be said for their bok choy. The one dish I would not get it again is their dan dan noodles. It did not have pork and it was not spicy enough. It was pretty much ramen noodles and peanut sauce mixed together.\")['compound']"
   ]
  },
  {
   "cell_type": "code",
   "execution_count": null,
   "metadata": {
    "collapsed": true
   },
   "outputs": [],
   "source": [
    "score = review_star_dict_pred_updated[\"My actual rating for the restaurant is 3.5 stars. The ambiance here is a step above other Chinese restaurants and the service is decently quick. The food was a mixed bag. The beef pancake roll was great and so was the beef noodle soup but make sure that you ask them to make it spicy because they don't do it by default. The mooshu pork was decent, nothing outstanding though. The same could be said for their bok choy. The one dish I would not get it again is their dan dan noodles. It did not have pork and it was not spicy enough. It was pretty much ramen noodles and peanut sauce mixed together.\"]"
   ]
  },
  {
   "cell_type": "code",
   "execution_count": null,
   "metadata": {
    "collapsed": true
   },
   "outputs": [],
   "source": [
    "str(colors[int(score-1)])"
   ]
  },
  {
   "cell_type": "code",
   "execution_count": null,
   "metadata": {
    "collapsed": true
   },
   "outputs": [],
   "source": [
    "from IPython.display import Markdown, display\n",
    "def printmd(color):\n",
    "    display(Markdown('<font color = #50a000>  \"My actual rating for the restaurant is 3.5 stars. The ambiance here is a step above other Chinese restaurants and the service is decently quick. The food was a mixed bag. The beef pancake roll was great and so was the beef noodle soup but make sure that you ask them to make it spicy because they do not do it by default. The mooshu pork was decent, nothing outstanding though. The same could be said for their bok choy. The one dish I would not get it again is their dan dan noodles. It did not have pork and it was not spicy enough. It was pretty much ramen noodles and peanut sauce mixed together.\" </font> '))\n",
    "printmd(color1)"
   ]
  },
  {
   "cell_type": "markdown",
   "metadata": {},
   "source": [
    "### Comparison of distributions of predicted vs original ratingsa"
   ]
  },
  {
   "cell_type": "code",
   "execution_count": null,
   "metadata": {
    "collapsed": true
   },
   "outputs": [],
   "source": [
    "import matplotlib.pyplot as plt\n",
    "import seaborn as sns"
   ]
  },
  {
   "cell_type": "markdown",
   "metadata": {},
   "source": [
    "#### original ratings"
   ]
  },
  {
   "cell_type": "code",
   "execution_count": null,
   "metadata": {
    "collapsed": true,
    "scrolled": true
   },
   "outputs": [],
   "source": [
    "sns.set(style=\"darkgrid\")\n",
    "ax = sns.countplot(x=review_star_dict_raw.values())\n",
    "plt.show()"
   ]
  },
  {
   "cell_type": "markdown",
   "metadata": {},
   "source": [
    "#### predicted ratings"
   ]
  },
  {
   "cell_type": "code",
   "execution_count": null,
   "metadata": {
    "collapsed": true
   },
   "outputs": [],
   "source": [
    "predictions = []\n",
    "\n",
    "for t in review_star_dict_raw.keys():\n",
    "    predictions.append(review_star_dict_pred_updated[t])\n",
    "    \n",
    "sns.set(style=\"darkgrid\")\n",
    "ax = sns.countplot(x=predictions)\n",
    "plt.show()"
   ]
  },
  {
   "cell_type": "markdown",
   "metadata": {},
   "source": [
    "#### both"
   ]
  },
  {
   "cell_type": "code",
   "execution_count": null,
   "metadata": {
    "collapsed": true,
    "scrolled": false
   },
   "outputs": [],
   "source": [
    "plt.figure(figsize=(10,5))\n",
    "sns.set(style=\"darkgrid\")\n",
    "ax = sns.countplot(x=predictions, hue=review_star_dict_raw.values())\n",
    "#ax.set_xlim(0,4)\n",
    "plt.tick_params(axis='both', which='major', labelsize=14)\n",
    "plt.xlabel('Predicted rating by Vader Sentiment Analysis', fontsize=18)\n",
    "plt.ylabel('Count',fontsize=18)\n",
    "plt.show()"
   ]
  },
  {
   "cell_type": "code",
   "execution_count": null,
   "metadata": {
    "collapsed": true
   },
   "outputs": [],
   "source": []
  },
  {
   "cell_type": "code",
   "execution_count": null,
   "metadata": {
    "collapsed": true
   },
   "outputs": [],
   "source": []
  },
  {
   "cell_type": "code",
   "execution_count": null,
   "metadata": {
    "collapsed": true
   },
   "outputs": [],
   "source": []
  },
  {
   "cell_type": "markdown",
   "metadata": {},
   "source": [
    "## Business wise aggregate"
   ]
  },
  {
   "cell_type": "code",
   "execution_count": 10,
   "metadata": {
    "collapsed": true
   },
   "outputs": [],
   "source": [
    "star_business = zip(stars, business)\n",
    "\n",
    "review_star_dict_raw = dict(zip(reviews, star_business))\n",
    "# review_star_dict_raw"
   ]
  },
  {
   "cell_type": "code",
   "execution_count": 11,
   "metadata": {
    "collapsed": true
   },
   "outputs": [],
   "source": [
    "analyse = SentimentIntensityAnalyzer()\n",
    "\n",
    "review_star_dict_pred = review_star_dict_raw.copy()\n",
    "for i in reviews:\n",
    "    review_star_dict_pred[i] = (analyse.polarity_scores(i)['compound'], review_star_dict_pred[i][1])\n",
    "\n",
    "# review_star_dict_pred"
   ]
  },
  {
   "cell_type": "code",
   "execution_count": 12,
   "metadata": {
    "collapsed": true
   },
   "outputs": [],
   "source": [
    "def derive_rating_aggregate(reviews_dict):\n",
    "    \"\"\"\n",
    "    take review_dict with scores in values in comment in key. \n",
    "    convert the score range of -1 to 1 to range of 1 to 5\n",
    "    \"\"\"   \n",
    "    NewMax = 5\n",
    "    NewMin = 1\n",
    "    OldMax = 1\n",
    "    OldMin = -1\n",
    "    \n",
    "    reviews_dict_aggregate = reviews_dict.copy()\n",
    "    \n",
    "    for t in reviews_dict.keys():\n",
    "        score = reviews_dict_aggregate[t][0]\n",
    "        OldValue = score\n",
    "        NewValue = (((OldValue - OldMin) * (NewMax - NewMin)) / (OldMax - OldMin)) + NewMin\n",
    "        NewValue_round = np.round(NewValue)\n",
    "        reviews_dict_aggregate[t] = (NewValue_round,reviews_dict_aggregate[t][1])\n",
    "    \n",
    "    return reviews_dict_aggregate"
   ]
  },
  {
   "cell_type": "code",
   "execution_count": 13,
   "metadata": {
    "collapsed": true
   },
   "outputs": [],
   "source": [
    "review_star_dict_pred_aggregate = derive_rating_aggregate(review_star_dict_pred)\n",
    "\n",
    "# review_star_dict_pred_aggregate"
   ]
  },
  {
   "cell_type": "code",
   "execution_count": 14,
   "metadata": {},
   "outputs": [
    {
     "data": {
      "text/html": [
       "<div>\n",
       "<style>\n",
       "    .dataframe thead tr:only-child th {\n",
       "        text-align: right;\n",
       "    }\n",
       "\n",
       "    .dataframe thead th {\n",
       "        text-align: left;\n",
       "    }\n",
       "\n",
       "    .dataframe tbody tr th {\n",
       "        vertical-align: top;\n",
       "    }\n",
       "</style>\n",
       "<table border=\"1\" class=\"dataframe\">\n",
       "  <thead>\n",
       "    <tr style=\"text-align: right;\">\n",
       "      <th></th>\n",
       "      <th>Review</th>\n",
       "      <th>predicted_stars</th>\n",
       "      <th>business_id</th>\n",
       "    </tr>\n",
       "  </thead>\n",
       "  <tbody>\n",
       "    <tr>\n",
       "      <th>0</th>\n",
       "      <td>After experiencing what non-chain real Irish p...</td>\n",
       "      <td>4.0</td>\n",
       "      <td>CaETzvd1cA5mYaCReGAHjA</td>\n",
       "    </tr>\n",
       "    <tr>\n",
       "      <th>1</th>\n",
       "      <td>Located in the strip that faces Lowe's, just a...</td>\n",
       "      <td>1.0</td>\n",
       "      <td>LHVfdNRDiQfRpDyHyzvI5A</td>\n",
       "    </tr>\n",
       "    <tr>\n",
       "      <th>2</th>\n",
       "      <td>Note to self: If the staff behind the counter ...</td>\n",
       "      <td>1.0</td>\n",
       "      <td>pa-C-Vsk9ntuXBGjTr0tBQ</td>\n",
       "    </tr>\n",
       "    <tr>\n",
       "      <th>3</th>\n",
       "      <td>I finally came in for a 2nd visit a year and a...</td>\n",
       "      <td>3.0</td>\n",
       "      <td>4U0Qfbqi8OtsMyujuSIRLQ</td>\n",
       "    </tr>\n",
       "    <tr>\n",
       "      <th>4</th>\n",
       "      <td>It seems like every woman who has ever shopped...</td>\n",
       "      <td>5.0</td>\n",
       "      <td>QJl-EAKJQjUZoBBQPKhCgg</td>\n",
       "    </tr>\n",
       "  </tbody>\n",
       "</table>\n",
       "</div>"
      ],
      "text/plain": [
       "                                              Review  predicted_stars  \\\n",
       "0  After experiencing what non-chain real Irish p...              4.0   \n",
       "1  Located in the strip that faces Lowe's, just a...              1.0   \n",
       "2  Note to self: If the staff behind the counter ...              1.0   \n",
       "3  I finally came in for a 2nd visit a year and a...              3.0   \n",
       "4  It seems like every woman who has ever shopped...              5.0   \n",
       "\n",
       "              business_id  \n",
       "0  CaETzvd1cA5mYaCReGAHjA  \n",
       "1  LHVfdNRDiQfRpDyHyzvI5A  \n",
       "2  pa-C-Vsk9ntuXBGjTr0tBQ  \n",
       "3  4U0Qfbqi8OtsMyujuSIRLQ  \n",
       "4  QJl-EAKJQjUZoBBQPKhCgg  "
      ]
     },
     "execution_count": 14,
     "metadata": {},
     "output_type": "execute_result"
    }
   ],
   "source": [
    "agg_df = pd.DataFrame(review_star_dict_pred_aggregate.items(), columns=['Review', 'Tuple'])\n",
    "agg_df[['predicted_stars', 'business_id']] = agg_df['Tuple'].apply(pd.Series)\n",
    "agg_df = agg_df.drop(['Tuple'], axis=1)\n",
    "agg_df.head()"
   ]
  },
  {
   "cell_type": "code",
   "execution_count": 15,
   "metadata": {
    "collapsed": true
   },
   "outputs": [],
   "source": [
    "new_df = agg_df.copy()\n",
    "new_df = new_df.drop(['Review'], axis = 1)\n",
    "new_df = new_df.groupby('business_id').mean()\n",
    "# new_df"
   ]
  },
  {
   "cell_type": "code",
   "execution_count": 16,
   "metadata": {
    "collapsed": true
   },
   "outputs": [],
   "source": [
    "business_star_df = pd.DataFrame(star_business, columns=['Stars', 'business_id'])\n",
    "business_star_df = business_star_df.groupby('business_id').mean()\n",
    "# business_star_df"
   ]
  },
  {
   "cell_type": "code",
   "execution_count": 17,
   "metadata": {
    "collapsed": true
   },
   "outputs": [],
   "source": [
    "final_df = business_star_df.join(new_df, how = 'left')"
   ]
  },
  {
   "cell_type": "code",
   "execution_count": 18,
   "metadata": {
    "collapsed": true
   },
   "outputs": [],
   "source": [
    "def rmse(df):\n",
    "    return np.sqrt(np.mean((df['predicted_stars']-df['Stars'])**2))\n",
    "    "
   ]
  },
  {
   "cell_type": "code",
   "execution_count": 19,
   "metadata": {},
   "outputs": [
    {
     "data": {
      "text/plain": [
       "1.2652921986094054"
      ]
     },
     "execution_count": 19,
     "metadata": {},
     "output_type": "execute_result"
    }
   ],
   "source": [
    "rmse(final_df)"
   ]
  },
  {
   "cell_type": "code",
   "execution_count": 20,
   "metadata": {},
   "outputs": [
    {
     "data": {
      "text/html": [
       "<div>\n",
       "<style>\n",
       "    .dataframe thead tr:only-child th {\n",
       "        text-align: right;\n",
       "    }\n",
       "\n",
       "    .dataframe thead th {\n",
       "        text-align: left;\n",
       "    }\n",
       "\n",
       "    .dataframe tbody tr th {\n",
       "        vertical-align: top;\n",
       "    }\n",
       "</style>\n",
       "<table border=\"1\" class=\"dataframe\">\n",
       "  <thead>\n",
       "    <tr style=\"text-align: right;\">\n",
       "      <th></th>\n",
       "      <th>Stars</th>\n",
       "      <th>predicted_stars</th>\n",
       "      <th>diff</th>\n",
       "    </tr>\n",
       "    <tr>\n",
       "      <th>business_id</th>\n",
       "      <th></th>\n",
       "      <th></th>\n",
       "      <th></th>\n",
       "    </tr>\n",
       "  </thead>\n",
       "  <tbody>\n",
       "    <tr>\n",
       "      <th>--6MefnULPED_I942VcFNA</th>\n",
       "      <td>2.666667</td>\n",
       "      <td>4.666667</td>\n",
       "      <td>2.000000</td>\n",
       "    </tr>\n",
       "    <tr>\n",
       "      <th>--7zmmkVg-IMGaXbuVd0SQ</th>\n",
       "      <td>3.500000</td>\n",
       "      <td>4.750000</td>\n",
       "      <td>1.250000</td>\n",
       "    </tr>\n",
       "    <tr>\n",
       "      <th>--FBCX-N37CMYDfs790Bnw</th>\n",
       "      <td>4.000000</td>\n",
       "      <td>4.714286</td>\n",
       "      <td>0.714286</td>\n",
       "    </tr>\n",
       "    <tr>\n",
       "      <th>--KQsXc-clkO7oHRqGzSzg</th>\n",
       "      <td>2.000000</td>\n",
       "      <td>3.000000</td>\n",
       "      <td>1.000000</td>\n",
       "    </tr>\n",
       "    <tr>\n",
       "      <th>--SrzpvFLwP_YFwB_Cetow</th>\n",
       "      <td>3.750000</td>\n",
       "      <td>5.000000</td>\n",
       "      <td>1.250000</td>\n",
       "    </tr>\n",
       "  </tbody>\n",
       "</table>\n",
       "</div>"
      ],
      "text/plain": [
       "                           Stars  predicted_stars      diff\n",
       "business_id                                                \n",
       "--6MefnULPED_I942VcFNA  2.666667         4.666667  2.000000\n",
       "--7zmmkVg-IMGaXbuVd0SQ  3.500000         4.750000  1.250000\n",
       "--FBCX-N37CMYDfs790Bnw  4.000000         4.714286  0.714286\n",
       "--KQsXc-clkO7oHRqGzSzg  2.000000         3.000000  1.000000\n",
       "--SrzpvFLwP_YFwB_Cetow  3.750000         5.000000  1.250000"
      ]
     },
     "execution_count": 20,
     "metadata": {},
     "output_type": "execute_result"
    }
   ],
   "source": [
    "final_df['diff'] = np.absolute(final_df['Stars']-final_df['predicted_stars'])\n",
    "final_df.head()"
   ]
  },
  {
   "cell_type": "code",
   "execution_count": 21,
   "metadata": {},
   "outputs": [
    {
     "data": {
      "image/png": "[encoded data removed]",
      "text/plain": [
       "<matplotlib.figure.Figure at 0x11a9ec250>"
      ]
     },
     "metadata": {},
     "output_type": "display_data"
    }
   ],
   "source": [
    "plt.scatter(final_df['Stars'], final_df['predicted_stars'], c=final_df['diff'], cmap=plt.cm.gist_earth)\n",
    "plt.ylabel('Predicted Stars')\n",
    "plt.xlabel('Actual Stars')\n",
    "plt.show()"
   ]
  },
  {
   "cell_type": "code",
   "execution_count": null,
   "metadata": {
    "collapsed": true
   },
   "outputs": [],
   "source": []
  }
 ],
 "metadata": {
  "kernelspec": {
   "display_name": "Python 2",
   "language": "python",
   "name": "python2"
  },
  "language_info": {
   "codemirror_mode": {
    "name": "ipython",
    "version": 2
   },
   "file_extension": ".py",
   "mimetype": "text/x-python",
   "name": "python",
   "nbconvert_exporter": "python",
   "pygments_lexer": "ipython2",
   "version": "2.7.13"
  }
 },
 "nbformat": 4,
 "nbformat_minor": 2
}
