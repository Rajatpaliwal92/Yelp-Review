{
 "cells": [
  {
   "cell_type": "code",
   "execution_count": 5,
   "metadata": {
    "collapsed": true
   },
   "outputs": [],
   "source": [
    "from pyspark import SparkContext\n",
    "from pyspark.sql.types import *\n",
    "from pyspark.sql import Row\n",
    "from pyspark.sql.functions import *\n",
    "import math\n",
    "sc = SparkContext.getOrCreate()\n",
    "sqlContext = SQLContext(sc)\n",
    "import numpy as np\n",
    "import matplotlib.pyplot as plt\n",
    "import plotly.plotly as py\n",
    "from plotly.graph_objs import *"
   ]
  },
  {
   "cell_type": "code",
   "execution_count": 6,
   "metadata": {
    "collapsed": true
   },
   "outputs": [],
   "source": [
    "path = \"/Users/alvira/Desktop/distributedData/project/\"\n",
    "\n",
    "input_file_name1 = path+\"review.json\"\n",
    "input_file_name2 = path+'business.json'\n",
    "input_file_name3 = path+'user.json'\n",
    "input_file_name4 = path+'msan-697/review2.json'"
   ]
  },
  {
   "cell_type": "code",
   "execution_count": 8,
   "metadata": {
    "collapsed": true
   },
   "outputs": [],
   "source": [
    "business = sqlContext.read.json(input_file_name2)"
   ]
  },
  {
   "cell_type": "code",
   "execution_count": 11,
   "metadata": {
    "collapsed": true
   },
   "outputs": [],
   "source": [
    "business = business.toPandas()"
   ]
  },
  {
   "cell_type": "code",
   "execution_count": 22,
   "metadata": {},
   "outputs": [
    {
     "data": {
      "text/plain": [
       "(156639, 15)"
      ]
     },
     "execution_count": 22,
     "metadata": {},
     "output_type": "execute_result"
    }
   ],
   "source": [
    "business.shape"
   ]
  },
  {
   "cell_type": "code",
   "execution_count": 78,
   "metadata": {
    "collapsed": true
   },
   "outputs": [],
   "source": [
    "rest = business[business['categories'].apply(lambda x: 'Restaurants' in x or \"Food\" in x or \"Pubs\" in x\n",
    "                                             or \"Nightlife\" in x or \"Bars\" in x)]"
   ]
  },
  {
   "cell_type": "code",
   "execution_count": 79,
   "metadata": {},
   "outputs": [
    {
     "data": {
      "text/plain": [
       "(69042, 15)"
      ]
     },
     "execution_count": 79,
     "metadata": {},
     "output_type": "execute_result"
    }
   ],
   "source": [
    "rest.shape"
   ]
  },
  {
   "cell_type": "code",
   "execution_count": 46,
   "metadata": {},
   "outputs": [
    {
     "data": {
      "text/plain": [
       "address          object\n",
       "attributes       object\n",
       "business_id      object\n",
       "categories       object\n",
       "city             object\n",
       "hours            object\n",
       "is_open           int64\n",
       "latitude        float64\n",
       "longitude       float64\n",
       "name             object\n",
       "neighborhood     object\n",
       "postal_code      object\n",
       "review_count      int64\n",
       "stars           float64\n",
       "state            object\n",
       "dtype: object"
      ]
     },
     "execution_count": 46,
     "metadata": {},
     "output_type": "execute_result"
    }
   ],
   "source": [
    "rest.dtypes"
   ]
  },
  {
   "cell_type": "code",
   "execution_count": 82,
   "metadata": {},
   "outputs": [
    {
     "data": {
      "text/plain": [
       "<matplotlib.figure.Figure at 0x149e44d50>"
      ]
     },
     "metadata": {},
     "output_type": "display_data"
    },
    {
     "data": {
      "image/png": "[encoded data removed]",
      "text/plain": [
       "<matplotlib.figure.Figure at 0x149e004d0>"
      ]
     },
     "metadata": {},
     "output_type": "display_data"
    }
   ],
   "source": [
    "# rest['review_count'].plot(kind='bar')\n",
    "fig=plt.figure()\n",
    "rest.hist(column=\"review_count\",bins=500,cumulative=True)\n",
    "plt.xlim([0,200])\n",
    "plt.show()"
   ]
  },
  {
   "cell_type": "code",
   "execution_count": 10,
   "metadata": {
    "collapsed": true
   },
   "outputs": [],
   "source": [
    "users = sqlContext.read.json(input_file_name3)"
   ]
  },
  {
   "cell_type": "code",
   "execution_count": 17,
   "metadata": {
    "collapsed": true
   },
   "outputs": [],
   "source": [
    "review_count = users.select([\"review_count\"]).toPandas()"
   ]
  },
  {
   "cell_type": "code",
   "execution_count": 29,
   "metadata": {},
   "outputs": [
    {
     "data": {
      "text/plain": [
       "<matplotlib.figure.Figure at 0x12066eb10>"
      ]
     },
     "metadata": {},
     "output_type": "display_data"
    },
    {
     "data": {
      "image/png": "[encoded data removed]",
      "text/plain": [
       "<matplotlib.figure.Figure at 0x11ed2d910>"
      ]
     },
     "metadata": {},
     "output_type": "display_data"
    }
   ],
   "source": [
    "# rest['review_count'].plot(kind='bar')\n",
    "fig=plt.figure()\n",
    "review_count.hist(column=\"review_count\",bins=10000,cumulative=True)\n",
    "plt.xlim([0,50])\n",
    "plt.show()"
   ]
  },
  {
   "cell_type": "code",
   "execution_count": 3,
   "metadata": {
    "collapsed": true
   },
   "outputs": [],
   "source": [
    "filt_reviews = sqlContext.read.json(input_file_name4).toPandas()"
   ]
  },
  {
   "cell_type": "code",
   "execution_count": 4,
   "metadata": {},
   "outputs": [
    {
     "data": {
      "text/plain": [
       "(1269069, 6)"
      ]
     },
     "execution_count": 4,
     "metadata": {},
     "output_type": "execute_result"
    }
   ],
   "source": [
    "filt_reviews.shape"
   ]
  },
  {
   "cell_type": "code",
   "execution_count": 38,
   "metadata": {
    "collapsed": true
   },
   "outputs": [],
   "source": [
    "filt_reviews['length'] = filt_reviews['text'].apply(lambda x: len(x))"
   ]
  },
  {
   "cell_type": "code",
   "execution_count": 21,
   "metadata": {},
   "outputs": [
    {
     "data": {
      "text/html": [
       "<script>requirejs.config({paths: { 'plotly': ['https://cdn.plot.ly/plotly-latest.min']},});if(!window.Plotly) {{require(['plotly'],function(plotly) {window.Plotly=plotly;});}}</script>"
      ],
      "text/vnd.plotly.v1+html": [
       "<script>requirejs.config({paths: { 'plotly': ['https://cdn.plot.ly/plotly-latest.min']},});if(!window.Plotly) {{require(['plotly'],function(plotly) {window.Plotly=plotly;});}}</script>"
      ]
     },
     "metadata": {},
     "output_type": "display_data"
    }
   ],
   "source": [
    "from plotly.offline import init_notebook_mode, iplot\n",
    "init_notebook_mode(connected=True)\n",
    "import plotly.graph_objs as go"
   ]
  },
  {
   "cell_type": "code",
   "execution_count": 36,
   "metadata": {
    "scrolled": true
   },
   "outputs": [
    {
     "data": {
      "image/png": "[encoded data removed]",
      "text/plain": [
       "<matplotlib.figure.Figure at 0x12986e4d0>"
      ]
     },
     "metadata": {},
     "output_type": "display_data"
    },
    {
     "name": "stdout",
     "output_type": "stream",
     "text": [
      "<ggplot: (284756673)>\n"
     ]
    }
   ],
   "source": [
    "print ggplot(aes(x = 'length'),data=filt_reviews) + geom_histogram() "
   ]
  },
  {
   "cell_type": "code",
   "execution_count": 56,
   "metadata": {
    "collapsed": true
   },
   "outputs": [],
   "source": [
    "def bucket(x):\n",
    "    if x<200: return \"less than 200\"\n",
    "    elif x>=200 and x<500: return \"between 200 and 500\"\n",
    "    elif x>=500 and x<800: return \"between 500 and 800\"\n",
    "    elif x>=800 and x<1300: return \"between 800 and 1300\"\n",
    "    elif x>=1300 and x<1600: return \"between 1300 and 1600\"\n",
    "    else : return \"greater than 1600\"  \n",
    "filt_reviews['length-bucket'] = filt_reviews['length'].apply(lambda x: bucket(x))"
   ]
  },
  {
   "cell_type": "code",
   "execution_count": 69,
   "metadata": {},
   "outputs": [
    {
     "data": {
      "image/png": "[encoded data removed]",
      "text/plain": [
       "<matplotlib.figure.Figure at 0x12e74d150>"
      ]
     },
     "metadata": {},
     "output_type": "display_data"
    }
   ],
   "source": [
    "import seaborn as sns\n",
    "plt.figure(figsize=(20,7))\n",
    "sns.countplot(x=\"length-bucket\", order= [\"less than 200\",\"between 200 and 500\",\"between 500 and 800\",\n",
    "                                        \"between 800 and 1300\",\"between 1300 and 1600\",\"greater than 1600\"],\n",
    "              hue=\"stars\", data=filt_reviews)\n",
    "plt.show()"
   ]
  },
  {
   "cell_type": "markdown",
   "metadata": {},
   "source": [
    "## Distribution of length of reviews"
   ]
  },
  {
   "cell_type": "code",
   "execution_count": 2,
   "metadata": {},
   "outputs": [],
   "source": [
    "filt_reviews['length'] = filt_reviews['text'].apply(lambda x: len(x.split()))\n",
    "\n",
    "fig = plt.figure()\n",
    "filt_reviews.hist(column='length')\n",
    "plt.show()"
   ]
  },
  {
   "cell_type": "code",
   "execution_count": null,
   "metadata": {
    "collapsed": true
   },
   "outputs": [],
   "source": [
    "filt_reviews.head()\n",
    "\n",
    "reviews2 = filt_reviews.copy()\n",
    "#reviews2 = filt_reviews.withColumn('class',categorize('stars')).select(['text', 'class','stars','business_id', 'user_id'])"
   ]
  },
  {
   "cell_type": "code",
   "execution_count": null,
   "metadata": {
    "collapsed": true
   },
   "outputs": [],
   "source": [
    "reviews2['category'] = 0\n",
    "reviews2['category'][reviews2['stars'] > 3] = 1\n",
    "reviews2.head()"
   ]
  },
  {
   "cell_type": "code",
   "execution_count": null,
   "metadata": {
    "collapsed": true
   },
   "outputs": [],
   "source": [
    "reviews_pos = reviews2[reviews2['category'] == 1]\n",
    "reviews_neg = reviews2[reviews2['category'] == 0]\n",
    "print reviews_pos.shape, reviews_neg.shape\n",
    "reviews_neg.head()"
   ]
  },
  {
   "cell_type": "code",
   "execution_count": null,
   "metadata": {
    "collapsed": true
   },
   "outputs": [],
   "source": [
    "from nltk.corpus import stopwords\n",
    "stopWords = set(stopwords.words('english'))\n",
    "import re"
   ]
  },
  {
   "cell_type": "code",
   "execution_count": null,
   "metadata": {
    "collapsed": true
   },
   "outputs": [],
   "source": [
    "stopWords.add('-')\n",
    "stopWords.add('would')\n",
    "stopWords.add('get')\n",
    "stopWords.remove('not')\n",
    "stopWords.add('could')\n",
    "\n"
   ]
  },
  {
   "cell_type": "code",
   "execution_count": null,
   "metadata": {
    "collapsed": true
   },
   "outputs": [],
   "source": [
    "# stopWords\n",
    "\n",
    "pos_reviews = sc.parallelize(reviews_pos['text'])\n",
    "\n",
    "pos_reviews = pos_reviews.flatMap(lambda x:x.split(' ')).map(lambda x: x.lower()).map(lambda x: re.sub(\"'\", '', x)).filter(lambda x: x is not u'').filter(lambda x:len(x)>3)\n",
    "\n",
    "# pos_reviews.collect()\n",
    "\n",
    "pos_reviews = pos_reviews.filter(lambda x: x not in stopWords)\n",
    "\n",
    "# pos_reviews.collect()\n",
    "\n",
    "pos_reviews = pos_reviews.map(lambda x: (x, 1)).reduceByKey(lambda x,y:x+y).sortBy(lambda x: x[1], ascending=False)\n",
    "\n",
    "pos_reviews.take(20)"
   ]
  },
  {
   "cell_type": "code",
   "execution_count": null,
   "metadata": {
    "collapsed": true
   },
   "outputs": [],
   "source": [
    "# stopWords\n",
    "\n",
    "neg_reviews = sc.parallelize(reviews_neg['text'])\n",
    "\n",
    "neg_reviews = neg_reviews.flatMap(lambda x:x.split(' ')).map(lambda x: x.lower()).map(lambda x: re.sub(\"'\", '', x)).filter(lambda x: x is not u'').filter(lambda x:len(x)>3)\n",
    "\n",
    "# neg_reviews.collect()\n",
    "\n",
    "neg_reviews = neg_reviews.filter(lambda x: x not in stopWords)\n",
    "\n",
    "# neg_reviews.collect()\n",
    "\n",
    "neg_reviews = neg_reviews.map(lambda x: (x, 1)).reduceByKey(lambda x,y:x+y).sortBy(lambda x: x[1], ascending=False)\n",
    "\n",
    "neg_reviews.take(20)"
   ]
  },
  {
   "cell_type": "code",
   "execution_count": null,
   "metadata": {
    "collapsed": true
   },
   "outputs": [],
   "source": []
  }
 ],
 "metadata": {
  "kernelspec": {
   "display_name": "Python 2",
   "language": "python",
   "name": "python2"
  },
  "language_info": {
   "codemirror_mode": {
    "name": "ipython",
    "version": 2
   },
   "file_extension": ".py",
   "mimetype": "text/x-python",
   "name": "python",
   "nbconvert_exporter": "python",
   "pygments_lexer": "ipython2",
   "version": "2.7.13"
  }
 },
 "nbformat": 4,
 "nbformat_minor": 2
}
