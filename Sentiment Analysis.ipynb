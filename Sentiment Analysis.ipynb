{
 "cells": [
  {
   "cell_type": "code",
   "execution_count": 1,
   "metadata": {
    "collapsed": true
   },
   "outputs": [],
   "source": [
    "from pyspark import SparkContext\n",
    "from pyspark.sql.types import *\n",
    "from pyspark.sql import Row\n",
    "from pyspark.sql.functions import *\n",
    "import math\n",
    "sc = SparkContext.getOrCreate()\n",
    "sqlContext = SQLContext(sc)"
   ]
  },
  {
   "cell_type": "code",
   "execution_count": 147,
   "metadata": {
    "collapsed": true
   },
   "outputs": [],
   "source": [
    "import numpy as np"
   ]
  },
  {
   "cell_type": "code",
   "execution_count": 2,
   "metadata": {
    "collapsed": true
   },
   "outputs": [],
   "source": [
    "import tweepy\n",
    "from vaderSentiment.vaderSentiment import SentimentIntensityAnalyzer"
   ]
  },
  {
   "cell_type": "markdown",
   "metadata": {},
   "source": [
    "### Vader sentiment analysis"
   ]
  },
  {
   "cell_type": "markdown",
   "metadata": {},
   "source": [
    "#### Dictionary of scores and reviews"
   ]
  },
  {
   "cell_type": "code",
   "execution_count": 5,
   "metadata": {
    "collapsed": true
   },
   "outputs": [],
   "source": [
    "dbname = 'test'\n",
    "collection_name1 = 'reviews'\n",
    "\n",
    "path = \"/Users/groverprince/Documents/msan/msan_intermission/project/\"\n",
    "\n",
    "input_file_name1 = path+\"review_u200.json\""
   ]
  },
  {
   "cell_type": "code",
   "execution_count": 8,
   "metadata": {
    "collapsed": true
   },
   "outputs": [],
   "source": [
    "reviews200_df = sqlContext.read.json(input_file_name1)"
   ]
  },
  {
   "cell_type": "code",
   "execution_count": 11,
   "metadata": {},
   "outputs": [
    {
     "name": "stdout",
     "output_type": "stream",
     "text": [
      "+--------------------+--------------------+-----+--------------------+--------------------+\n",
      "|         business_id|           review_id|stars|                text|             user_id|\n",
      "+--------------------+--------------------+-----+--------------------+--------------------+\n",
      "|5GcHJvxiTrIt23gB0...|zczyue447yED7newK...|    2|You certainly get...|P2E31XC7SP4v_3hXC...|\n",
      "|5GcHJvxiTrIt23gB0...|9vGcS9Vze0XjYQgCi...|    2|The Chinese name ...|Wu0yySWcHQ5tZ_59H...|\n",
      "+--------------------+--------------------+-----+--------------------+--------------------+\n",
      "only showing top 2 rows\n",
      "\n"
     ]
    }
   ],
   "source": [
    "reviews200_df.show(2)"
   ]
  },
  {
   "cell_type": "code",
   "execution_count": 37,
   "metadata": {},
   "outputs": [],
   "source": [
    "reviews = list(reviews200_df.select('text').rdd.map(lambda x: x[0]).collect())"
   ]
  },
  {
   "cell_type": "code",
   "execution_count": 38,
   "metadata": {
    "collapsed": true
   },
   "outputs": [],
   "source": [
    "stars = list(reviews200_df.select('stars').rdd.map(lambda x: x[0]).collect())"
   ]
  },
  {
   "cell_type": "code",
   "execution_count": 39,
   "metadata": {
    "collapsed": true
   },
   "outputs": [],
   "source": [
    "review_star_dict_raw = dict(zip(reviews, stars))"
   ]
  },
  {
   "cell_type": "code",
   "execution_count": 51,
   "metadata": {},
   "outputs": [],
   "source": [
    "analyse = SentimentIntensityAnalyzer()\n",
    "\n",
    "review_star_dict_pred = review_star_dict_raw.copy()\n",
    "\n",
    "for i in reviews:\n",
    "    review_star_dict_pred[i] = analyse.polarity_scores(i)['compound']"
   ]
  },
  {
   "cell_type": "code",
   "execution_count": null,
   "metadata": {
    "collapsed": true
   },
   "outputs": [],
   "source": [
    "for k, v in myDict2.iteritems():\n",
    "    myDict1[k] = myDict1.get(k, ()) + v"
   ]
  },
  {
   "cell_type": "code",
   "execution_count": 149,
   "metadata": {
    "collapsed": true
   },
   "outputs": [],
   "source": [
    "def derive_rating(reviews_dict):\n",
    "    \"\"\"\n",
    "    take review_dict with scores in values in comment in key. \n",
    "    convert the score range of -1 to 1 to range of 1 to 5\n",
    "    \"\"\"   \n",
    "    NewMax = 5\n",
    "    NewMin = 1\n",
    "    OldMax = 1\n",
    "    OldMin = -1\n",
    "    \n",
    "    reviews_dict_updated = reviews_dict.copy()\n",
    "    \n",
    "    for t in reviews_dict.keys():\n",
    "        score = reviews_dict_updated[t]\n",
    "        OldValue = score\n",
    "        NewValue = (((OldValue - OldMin) * (NewMax - NewMin)) / (OldMax - OldMin)) + NewMin\n",
    "        NewValue_round = np.round(NewValue)\n",
    "        reviews_dict_updated[t] = NewValue_round\n",
    "    \n",
    "    return reviews_dict_updated"
   ]
  },
  {
   "cell_type": "code",
   "execution_count": 150,
   "metadata": {},
   "outputs": [],
   "source": [
    "review_star_dict_pred_updated = derive_rating(review_star_dict_pred)"
   ]
  },
  {
   "cell_type": "markdown",
   "metadata": {},
   "source": [
    "Adding colors to sentiment for visualization purposes"
   ]
  },
  {
   "cell_type": "code",
   "execution_count": 160,
   "metadata": {
    "collapsed": true
   },
   "outputs": [],
   "source": [
    "from colour import Color\n",
    "\n",
    "def add_color(reviews_dict):\n",
    "    \"\"\"\n",
    "    Given a list of tweets, one dictionary per tweet, add\n",
    "    a \"color\" key to each tweets dictionary with a value\n",
    "    containing a color graded from red to green. Pure red\n",
    "    would be for -1.0 sentiment score and pure green would be for\n",
    "    sentiment score 1.0.\n",
    "\n",
    "    Use colour.Color to get 5 color values in the range\n",
    "    from red to green. The index gives you the color increment\n",
    "    from the 5 gradients.\n",
    "\n",
    "    \"\"\"\n",
    "    color_dict = reviews_dict.copy()\n",
    "    keys = reviews_dict.keys()\n",
    "\n",
    "    colors = list(Color(\"red\").range_to(Color(\"green\"), 5))\n",
    "    #colors2 = [colors.split() for c in colors]\n",
    "    for t in keys:\n",
    "        score = color_dict[t]\n",
    "        color_dict[t] = str(colors[int(score-1)])\n",
    "\n",
    "    return color_dict"
   ]
  },
  {
   "cell_type": "code",
   "execution_count": 161,
   "metadata": {},
   "outputs": [],
   "source": [
    "colored_pred_rating = add_color(review_star_dict_pred_updated)"
   ]
  },
  {
   "cell_type": "code",
   "execution_count": 67,
   "metadata": {},
   "outputs": [
    {
     "data": {
      "text/plain": [
       "87177"
      ]
     },
     "execution_count": 67,
     "metadata": {},
     "output_type": "execute_result"
    }
   ],
   "source": [
    "len(reviews)"
   ]
  },
  {
   "cell_type": "code",
   "execution_count": 68,
   "metadata": {},
   "outputs": [
    {
     "data": {
      "text/plain": [
       "87163"
      ]
     },
     "execution_count": 68,
     "metadata": {},
     "output_type": "execute_result"
    }
   ],
   "source": [
    "len(review_star_dict_pred_updated)"
   ]
  },
  {
   "cell_type": "code",
   "execution_count": 69,
   "metadata": {},
   "outputs": [
    {
     "data": {
      "text/plain": [
       "87163"
      ]
     },
     "execution_count": 69,
     "metadata": {},
     "output_type": "execute_result"
    }
   ],
   "source": [
    "len(review_star_dict_pred)"
   ]
  },
  {
   "cell_type": "code",
   "execution_count": 91,
   "metadata": {},
   "outputs": [
    {
     "data": {
      "text/plain": [
       "[<Color red>, <Color #df7000>, <Color #bfbf00>, <Color #50a000>, <Color green>]"
      ]
     },
     "execution_count": 91,
     "metadata": {},
     "output_type": "execute_result"
    }
   ],
   "source": [
    "list(Color(\"red\").range_to(Color(\"green\"), 5))"
   ]
  },
  {
   "cell_type": "code",
   "execution_count": 191,
   "metadata": {},
   "outputs": [],
   "source": [
    "key1 = colored_pred_rating.keys()[np.random.randint(1000)]\n",
    "color1 = colored_pred_rating[key1]"
   ]
  },
  {
   "cell_type": "code",
   "execution_count": 192,
   "metadata": {},
   "outputs": [
    {
     "data": {
      "text/plain": [
       "u\"My actual rating for the restaurant is 3.5 stars. The ambiance here is a step above other Chinese restaurants and the service is decently quick. The food was a mixed bag. The beef pancake roll was great and so was the beef noodle soup but make sure that you ask them to make it spicy because they don't do it by default. The mooshu pork was decent, nothing outstanding though. The same could be said for their bok choy. The one dish I would not get it again is their dan dan noodles. It did not have pork and it was not spicy enough. It was pretty much ramen noodles and peanut sauce mixed together.\""
      ]
     },
     "execution_count": 192,
     "metadata": {},
     "output_type": "execute_result"
    }
   ],
   "source": [
    "key1"
   ]
  },
  {
   "cell_type": "code",
   "execution_count": 195,
   "metadata": {},
   "outputs": [
    {
     "data": {
      "text/plain": [
       "'#50a000'"
      ]
     },
     "execution_count": 195,
     "metadata": {},
     "output_type": "execute_result"
    }
   ],
   "source": [
    "color1"
   ]
  },
  {
   "cell_type": "code",
   "execution_count": 194,
   "metadata": {},
   "outputs": [
    {
     "data": {
      "text/plain": [
       "0.6673"
      ]
     },
     "execution_count": 194,
     "metadata": {},
     "output_type": "execute_result"
    }
   ],
   "source": [
    "analyse.polarity_scores(\"My actual rating for the restaurant is 3.5 stars. The ambiance here is a step above other Chinese restaurants and the service is decently quick. The food was a mixed bag. The beef pancake roll was great and so was the beef noodle soup but make sure that you ask them to make it spicy because they don't do it by default. The mooshu pork was decent, nothing outstanding though. The same could be said for their bok choy. The one dish I would not get it again is their dan dan noodles. It did not have pork and it was not spicy enough. It was pretty much ramen noodles and peanut sauce mixed together.\")['compound']"
   ]
  },
  {
   "cell_type": "code",
   "execution_count": 198,
   "metadata": {},
   "outputs": [],
   "source": [
    "score = review_star_dict_pred_updated[\"My actual rating for the restaurant is 3.5 stars. The ambiance here is a step above other Chinese restaurants and the service is decently quick. The food was a mixed bag. The beef pancake roll was great and so was the beef noodle soup but make sure that you ask them to make it spicy because they don't do it by default. The mooshu pork was decent, nothing outstanding though. The same could be said for their bok choy. The one dish I would not get it again is their dan dan noodles. It did not have pork and it was not spicy enough. It was pretty much ramen noodles and peanut sauce mixed together.\"]"
   ]
  },
  {
   "cell_type": "code",
   "execution_count": 199,
   "metadata": {},
   "outputs": [
    {
     "data": {
      "text/plain": [
       "'#50a000'"
      ]
     },
     "execution_count": 199,
     "metadata": {},
     "output_type": "execute_result"
    }
   ],
   "source": [
    "str(colors[int(score-1)])"
   ]
  },
  {
   "cell_type": "code",
   "execution_count": 203,
   "metadata": {},
   "outputs": [
    {
     "data": {
      "text/markdown": [
       "<font color = #50a000>  \"My actual rating for the restaurant is 3.5 stars. The ambiance here is a step above other Chinese restaurants and the service is decently quick. The food was a mixed bag. The beef pancake roll was great and so was the beef noodle soup but make sure that you ask them to make it spicy because they do not do it by default. The mooshu pork was decent, nothing outstanding though. The same could be said for their bok choy. The one dish I would not get it again is their dan dan noodles. It did not have pork and it was not spicy enough. It was pretty much ramen noodles and peanut sauce mixed together.\" </font> "
      ],
      "text/plain": [
       "<IPython.core.display.Markdown object>"
      ]
     },
     "metadata": {},
     "output_type": "display_data"
    }
   ],
   "source": [
    "from IPython.display import Markdown, display\n",
    "def printmd(color):\n",
    "    display(Markdown('<font color = #50a000>  \"My actual rating for the restaurant is 3.5 stars. The ambiance here is a step above other Chinese restaurants and the service is decently quick. The food was a mixed bag. The beef pancake roll was great and so was the beef noodle soup but make sure that you ask them to make it spicy because they do not do it by default. The mooshu pork was decent, nothing outstanding though. The same could be said for their bok choy. The one dish I would not get it again is their dan dan noodles. It did not have pork and it was not spicy enough. It was pretty much ramen noodles and peanut sauce mixed together.\" </font> '))\n",
    "printmd(color1)"
   ]
  },
  {
   "cell_type": "markdown",
   "metadata": {},
   "source": [
    "### Comparison of distributions of predicted vs original ratingsa"
   ]
  },
  {
   "cell_type": "code",
   "execution_count": 107,
   "metadata": {
    "collapsed": true
   },
   "outputs": [],
   "source": [
    "import matplotlib.pyplot as plt\n",
    "import seaborn as sns"
   ]
  },
  {
   "cell_type": "markdown",
   "metadata": {},
   "source": [
    "#### original ratings"
   ]
  },
  {
   "cell_type": "code",
   "execution_count": 109,
   "metadata": {
    "scrolled": true
   },
   "outputs": [
    {
     "data": {
      "image/png": "[encoded data removed]",
      "text/plain": [
       "<matplotlib.figure.Figure at 0x12c8a2e50>"
      ]
     },
     "metadata": {},
     "output_type": "display_data"
    }
   ],
   "source": [
    "sns.set(style=\"darkgrid\")\n",
    "ax = sns.countplot(x=review_star_dict_raw.values())\n",
    "plt.show()"
   ]
  },
  {
   "cell_type": "markdown",
   "metadata": {},
   "source": [
    "#### predicted ratings"
   ]
  },
  {
   "cell_type": "code",
   "execution_count": 153,
   "metadata": {},
   "outputs": [
    {
     "data": {
      "image/png": "[encoded data removed]",
      "text/plain": [
       "<matplotlib.figure.Figure at 0x13c1e1410>"
      ]
     },
     "metadata": {},
     "output_type": "display_data"
    }
   ],
   "source": [
    "predictions = []\n",
    "\n",
    "for t in review_star_dict_raw.keys():\n",
    "    predictions.append(review_star_dict_pred_updated[t])\n",
    "    \n",
    "sns.set(style=\"darkgrid\")\n",
    "ax = sns.countplot(x=predictions)\n",
    "plt.show()"
   ]
  },
  {
   "cell_type": "markdown",
   "metadata": {},
   "source": [
    "#### both"
   ]
  },
  {
   "cell_type": "code",
   "execution_count": 157,
   "metadata": {
    "scrolled": false
   },
   "outputs": [
    {
     "data": {
      "image/png": "[encoded data removed]",
      "text/plain": [
       "<matplotlib.figure.Figure at 0x13e03bf90>"
      ]
     },
     "metadata": {},
     "output_type": "display_data"
    }
   ],
   "source": [
    "plt.figure(figsize=(10,5))\n",
    "sns.set(style=\"darkgrid\")\n",
    "ax = sns.countplot(x=predictions, hue=review_star_dict_raw.values())\n",
    "#ax.set_xlim(0,4)\n",
    "plt.tick_params(axis='both', which='major', labelsize=14)\n",
    "plt.xlabel('Predicted rating by Vader Sentiment Analysis', fontsize=18)\n",
    "plt.ylabel('Count',fontsize=18)\n",
    "plt.show()"
   ]
  }
 ],
 "metadata": {
  "kernelspec": {
   "display_name": "Python 2",
   "language": "python",
   "name": "python2"
  },
  "language_info": {
   "codemirror_mode": {
    "name": "ipython",
    "version": 2
   },
   "file_extension": ".py",
   "mimetype": "text/x-python",
   "name": "python",
   "nbconvert_exporter": "python",
   "pygments_lexer": "ipython2",
   "version": "2.7.13"
  }
 },
 "nbformat": 4,
 "nbformat_minor": 2
}
